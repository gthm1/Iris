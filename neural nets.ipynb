{
 "cells": [
  {
   "cell_type": "code",
   "execution_count": 1,
   "metadata": {},
   "outputs": [],
   "source": [
    "import numpy as np\n",
    "import pandas as pd\n",
    "import tensorflow as tf"
   ]
  },
  {
   "cell_type": "code",
   "execution_count": 2,
   "metadata": {},
   "outputs": [],
   "source": [
    "data = pd.read_csv('Iris.csv')"
   ]
  },
  {
   "cell_type": "code",
   "execution_count": 3,
   "metadata": {},
   "outputs": [
    {
     "name": "stdout",
     "output_type": "stream",
     "text": [
      "['Id', 'SepalLengthCm', 'SepalWidthCm', 'PetalLengthCm', 'PetalWidthCm', 'Species']\n"
     ]
    }
   ],
   "source": [
    "columns = data.columns\n",
    "columns = list(columns)\n",
    "print(columns)"
   ]
  },
  {
   "cell_type": "code",
   "execution_count": 4,
   "metadata": {},
   "outputs": [
    {
     "name": "stdout",
     "output_type": "stream",
     "text": [
      "<bound method NDFrame.head of      SepalLengthCm  SepalWidthCm  PetalLengthCm  PetalWidthCm\n",
      "0              5.1           3.5            1.4           0.2\n",
      "1              4.9           3.0            1.4           0.2\n",
      "2              4.7           3.2            1.3           0.2\n",
      "3              4.6           3.1            1.5           0.2\n",
      "4              5.0           3.6            1.4           0.2\n",
      "5              5.4           3.9            1.7           0.4\n",
      "6              4.6           3.4            1.4           0.3\n",
      "7              5.0           3.4            1.5           0.2\n",
      "8              4.4           2.9            1.4           0.2\n",
      "9              4.9           3.1            1.5           0.1\n",
      "10             5.4           3.7            1.5           0.2\n",
      "11             4.8           3.4            1.6           0.2\n",
      "12             4.8           3.0            1.4           0.1\n",
      "13             4.3           3.0            1.1           0.1\n",
      "14             5.8           4.0            1.2           0.2\n",
      "15             5.7           4.4            1.5           0.4\n",
      "16             5.4           3.9            1.3           0.4\n",
      "17             5.1           3.5            1.4           0.3\n",
      "18             5.7           3.8            1.7           0.3\n",
      "19             5.1           3.8            1.5           0.3\n",
      "20             5.4           3.4            1.7           0.2\n",
      "21             5.1           3.7            1.5           0.4\n",
      "22             4.6           3.6            1.0           0.2\n",
      "23             5.1           3.3            1.7           0.5\n",
      "24             4.8           3.4            1.9           0.2\n",
      "25             5.0           3.0            1.6           0.2\n",
      "26             5.0           3.4            1.6           0.4\n",
      "27             5.2           3.5            1.5           0.2\n",
      "28             5.2           3.4            1.4           0.2\n",
      "29             4.7           3.2            1.6           0.2\n",
      "..             ...           ...            ...           ...\n",
      "120            6.9           3.2            5.7           2.3\n",
      "121            5.6           2.8            4.9           2.0\n",
      "122            7.7           2.8            6.7           2.0\n",
      "123            6.3           2.7            4.9           1.8\n",
      "124            6.7           3.3            5.7           2.1\n",
      "125            7.2           3.2            6.0           1.8\n",
      "126            6.2           2.8            4.8           1.8\n",
      "127            6.1           3.0            4.9           1.8\n",
      "128            6.4           2.8            5.6           2.1\n",
      "129            7.2           3.0            5.8           1.6\n",
      "130            7.4           2.8            6.1           1.9\n",
      "131            7.9           3.8            6.4           2.0\n",
      "132            6.4           2.8            5.6           2.2\n",
      "133            6.3           2.8            5.1           1.5\n",
      "134            6.1           2.6            5.6           1.4\n",
      "135            7.7           3.0            6.1           2.3\n",
      "136            6.3           3.4            5.6           2.4\n",
      "137            6.4           3.1            5.5           1.8\n",
      "138            6.0           3.0            4.8           1.8\n",
      "139            6.9           3.1            5.4           2.1\n",
      "140            6.7           3.1            5.6           2.4\n",
      "141            6.9           3.1            5.1           2.3\n",
      "142            5.8           2.7            5.1           1.9\n",
      "143            6.8           3.2            5.9           2.3\n",
      "144            6.7           3.3            5.7           2.5\n",
      "145            6.7           3.0            5.2           2.3\n",
      "146            6.3           2.5            5.0           1.9\n",
      "147            6.5           3.0            5.2           2.0\n",
      "148            6.2           3.4            5.4           2.3\n",
      "149            5.9           3.0            5.1           1.8\n",
      "\n",
      "[150 rows x 4 columns]>\n"
     ]
    }
   ],
   "source": [
    "data_values = pd.DataFrame(data,columns=columns[1:-1],dtype=np.float32)\n",
    "print(data_values.head)"
   ]
  },
  {
   "cell_type": "code",
   "execution_count": 5,
   "metadata": {},
   "outputs": [
    {
     "name": "stdout",
     "output_type": "stream",
     "text": [
      "<bound method NDFrame.head of 0         Iris-setosa\n",
      "1         Iris-setosa\n",
      "2         Iris-setosa\n",
      "3         Iris-setosa\n",
      "4         Iris-setosa\n",
      "5         Iris-setosa\n",
      "6         Iris-setosa\n",
      "7         Iris-setosa\n",
      "8         Iris-setosa\n",
      "9         Iris-setosa\n",
      "10        Iris-setosa\n",
      "11        Iris-setosa\n",
      "12        Iris-setosa\n",
      "13        Iris-setosa\n",
      "14        Iris-setosa\n",
      "15        Iris-setosa\n",
      "16        Iris-setosa\n",
      "17        Iris-setosa\n",
      "18        Iris-setosa\n",
      "19        Iris-setosa\n",
      "20        Iris-setosa\n",
      "21        Iris-setosa\n",
      "22        Iris-setosa\n",
      "23        Iris-setosa\n",
      "24        Iris-setosa\n",
      "25        Iris-setosa\n",
      "26        Iris-setosa\n",
      "27        Iris-setosa\n",
      "28        Iris-setosa\n",
      "29        Iris-setosa\n",
      "            ...      \n",
      "120    Iris-virginica\n",
      "121    Iris-virginica\n",
      "122    Iris-virginica\n",
      "123    Iris-virginica\n",
      "124    Iris-virginica\n",
      "125    Iris-virginica\n",
      "126    Iris-virginica\n",
      "127    Iris-virginica\n",
      "128    Iris-virginica\n",
      "129    Iris-virginica\n",
      "130    Iris-virginica\n",
      "131    Iris-virginica\n",
      "132    Iris-virginica\n",
      "133    Iris-virginica\n",
      "134    Iris-virginica\n",
      "135    Iris-virginica\n",
      "136    Iris-virginica\n",
      "137    Iris-virginica\n",
      "138    Iris-virginica\n",
      "139    Iris-virginica\n",
      "140    Iris-virginica\n",
      "141    Iris-virginica\n",
      "142    Iris-virginica\n",
      "143    Iris-virginica\n",
      "144    Iris-virginica\n",
      "145    Iris-virginica\n",
      "146    Iris-virginica\n",
      "147    Iris-virginica\n",
      "148    Iris-virginica\n",
      "149    Iris-virginica\n",
      "Name: Species, Length: 150, dtype: object>\n"
     ]
    }
   ],
   "source": [
    "data_targets = data['Species']\n",
    "print(data_targets.head)"
   ]
  },
  {
   "cell_type": "code",
   "execution_count": 6,
   "metadata": {},
   "outputs": [
    {
     "name": "stdout",
     "output_type": "stream",
     "text": [
      "['Iris-setosa' 'Iris-versicolor' 'Iris-virginica']\n"
     ]
    }
   ],
   "source": [
    "avaliable_labels = data_targets.unique()\n",
    "print(avaliable_labels)"
   ]
  },
  {
   "cell_type": "code",
   "execution_count": 7,
   "metadata": {},
   "outputs": [
    {
     "name": "stdout",
     "output_type": "stream",
     "text": [
      "0      0\n",
      "1      0\n",
      "2      0\n",
      "3      0\n",
      "4      0\n",
      "5      0\n",
      "6      0\n",
      "7      0\n",
      "8      0\n",
      "9      0\n",
      "10     0\n",
      "11     0\n",
      "12     0\n",
      "13     0\n",
      "14     0\n",
      "15     0\n",
      "16     0\n",
      "17     0\n",
      "18     0\n",
      "19     0\n",
      "20     0\n",
      "21     0\n",
      "22     0\n",
      "23     0\n",
      "24     0\n",
      "25     0\n",
      "26     0\n",
      "27     0\n",
      "28     0\n",
      "29     0\n",
      "      ..\n",
      "120    2\n",
      "121    2\n",
      "122    2\n",
      "123    2\n",
      "124    2\n",
      "125    2\n",
      "126    2\n",
      "127    2\n",
      "128    2\n",
      "129    2\n",
      "130    2\n",
      "131    2\n",
      "132    2\n",
      "133    2\n",
      "134    2\n",
      "135    2\n",
      "136    2\n",
      "137    2\n",
      "138    2\n",
      "139    2\n",
      "140    2\n",
      "141    2\n",
      "142    2\n",
      "143    2\n",
      "144    2\n",
      "145    2\n",
      "146    2\n",
      "147    2\n",
      "148    2\n",
      "149    2\n",
      "Name: Species, Length: 150, dtype: int64\n"
     ]
    }
   ],
   "source": [
    "data_targets = data_targets.replace({avaliable_labels[0]:0,avaliable_labels[1]:1,avaliable_labels[2]:2})\n",
    "print(data_targets)"
   ]
  },
  {
   "cell_type": "code",
   "execution_count": 8,
   "metadata": {},
   "outputs": [
    {
     "name": "stderr",
     "output_type": "stream",
     "text": [
      "Using TensorFlow backend.\n"
     ]
    }
   ],
   "source": [
    "from keras.utils import to_categorical"
   ]
  },
  {
   "cell_type": "code",
   "execution_count": 9,
   "metadata": {},
   "outputs": [],
   "source": [
    "data_onehot_targets = to_categorical(data_targets)"
   ]
  },
  {
   "cell_type": "code",
   "execution_count": 10,
   "metadata": {},
   "outputs": [
    {
     "name": "stdout",
     "output_type": "stream",
     "text": [
      "[[1. 0. 0.]\n",
      " [1. 0. 0.]\n",
      " [1. 0. 0.]\n",
      " [1. 0. 0.]\n",
      " [1. 0. 0.]\n",
      " [1. 0. 0.]\n",
      " [1. 0. 0.]\n",
      " [1. 0. 0.]\n",
      " [1. 0. 0.]\n",
      " [1. 0. 0.]]\n"
     ]
    }
   ],
   "source": [
    "print(data_onehot_targets[:10])"
   ]
  },
  {
   "cell_type": "code",
   "execution_count": 11,
   "metadata": {},
   "outputs": [
    {
     "data": {
      "text/plain": [
       "dtype('float32')"
      ]
     },
     "execution_count": 11,
     "metadata": {},
     "output_type": "execute_result"
    }
   ],
   "source": [
    "data_onehot_targets.dtype"
   ]
  },
  {
   "cell_type": "code",
   "execution_count": 12,
   "metadata": {},
   "outputs": [
    {
     "name": "stderr",
     "output_type": "stream",
     "text": [
      "C:\\Users\\Gowtham\\Anaconda3\\envs\\flower\\lib\\site-packages\\sklearn\\cross_validation.py:41: DeprecationWarning: This module was deprecated in version 0.18 in favor of the model_selection module into which all the refactored classes and functions are moved. Also note that the interface of the new CV iterators are different from that of this module. This module will be removed in 0.20.\n",
      "  \"This module will be removed in 0.20.\", DeprecationWarning)\n"
     ]
    }
   ],
   "source": [
    "from sklearn.cross_validation import train_test_split"
   ]
  },
  {
   "cell_type": "code",
   "execution_count": 13,
   "metadata": {},
   "outputs": [],
   "source": [
    "train_data,test_data,train_targets,test_targets = train_test_split(data_values,data_onehot_targets)"
   ]
  },
  {
   "cell_type": "code",
   "execution_count": 14,
   "metadata": {},
   "outputs": [
    {
     "name": "stdout",
     "output_type": "stream",
     "text": [
      "(112, 4) (112, 3)\n"
     ]
    }
   ],
   "source": [
    "print(train_data.shape,train_targets.shape)"
   ]
  },
  {
   "cell_type": "code",
   "execution_count": 15,
   "metadata": {},
   "outputs": [
    {
     "name": "stdout",
     "output_type": "stream",
     "text": [
      "(38, 4) (38, 3)\n"
     ]
    }
   ],
   "source": [
    "print(test_data.shape,test_targets.shape)"
   ]
  },
  {
   "cell_type": "code",
   "execution_count": 16,
   "metadata": {},
   "outputs": [],
   "source": [
    "weights = {'wf1':tf.Variable(tf.random_normal([4,16])),\n",
    "          'wf2' : tf.Variable(tf.random_normal([16,32])),\n",
    "          'wfinal': tf.Variable(tf.random_normal([32,3]))}\n",
    "biases = {'bf1': tf.Variable(tf.random_normal([16])),\n",
    "         'bf2': tf.Variable(tf.random_normal([32])),\n",
    "         'bfinal': tf.Variable(tf.random_normal([3]))}"
   ]
  },
  {
   "cell_type": "code",
   "execution_count": 17,
   "metadata": {},
   "outputs": [],
   "source": [
    "def z_score_normalization(inputs):\n",
    "    mean = inputs.mean()\n",
    "    std = inputs.std()\n",
    "    normalized_values = list()\n",
    "    for x in inputs:\n",
    "        z_score = (x - mean)/std\n",
    "        normalized_values.append(z_score)\n",
    "    normalized_values = np.array(normalized_values)\n",
    "    return normalized_values"
   ]
  },
  {
   "cell_type": "code",
   "execution_count": 18,
   "metadata": {},
   "outputs": [],
   "source": [
    "sample = data_values[columns[1]]"
   ]
  },
  {
   "cell_type": "code",
   "execution_count": 19,
   "metadata": {},
   "outputs": [],
   "source": [
    "nv = z_score_normalization(sample)"
   ]
  },
  {
   "cell_type": "code",
   "execution_count": 20,
   "metadata": {},
   "outputs": [
    {
     "name": "stderr",
     "output_type": "stream",
     "text": [
      "C:\\Users\\Gowtham\\Anaconda3\\envs\\flower\\lib\\site-packages\\ipykernel\\__main__.py:2: SettingWithCopyWarning: \n",
      "A value is trying to be set on a copy of a slice from a DataFrame.\n",
      "Try using .loc[row_indexer,col_indexer] = value instead\n",
      "\n",
      "See the caveats in the documentation: http://pandas.pydata.org/pandas-docs/stable/indexing.html#indexing-view-versus-copy\n",
      "  from ipykernel import kernelapp as app\n",
      "C:\\Users\\Gowtham\\Anaconda3\\envs\\flower\\lib\\site-packages\\ipykernel\\__main__.py:3: SettingWithCopyWarning: \n",
      "A value is trying to be set on a copy of a slice from a DataFrame.\n",
      "Try using .loc[row_indexer,col_indexer] = value instead\n",
      "\n",
      "See the caveats in the documentation: http://pandas.pydata.org/pandas-docs/stable/indexing.html#indexing-view-versus-copy\n",
      "  app.launch_new_instance()\n"
     ]
    }
   ],
   "source": [
    "for column in columns[1:-1]:\n",
    "    train_data[column] = z_score_normalization(train_data[column])\n",
    "    test_data[column] = z_score_normalization(test_data[column])"
   ]
  },
  {
   "cell_type": "code",
   "execution_count": 21,
   "metadata": {},
   "outputs": [
    {
     "data": {
      "text/plain": [
       "<bound method NDFrame.head of      SepalLengthCm  SepalWidthCm  PetalLengthCm  PetalWidthCm\n",
       "53       -0.469540     -1.657597       0.071231      0.058204\n",
       "147       0.759161     -0.074703       0.775165      0.989465\n",
       "60       -1.083890     -2.335981      -0.222074     -0.340908\n",
       "47       -1.575371      0.377553      -1.453958     -1.405207\n",
       "40       -1.083890      1.055936      -1.512619     -1.272170\n",
       "39       -0.961020      0.829808      -1.395297     -1.405207\n",
       "51        0.636291      0.377553       0.364537      0.324279\n",
       "86        1.004901      0.151425       0.481859      0.324279\n",
       "41       -1.698241     -1.657597      -1.512619     -1.272170\n",
       "64       -0.346670     -0.300831      -0.163413      0.058204\n",
       "99       -0.223800     -0.526959       0.129893      0.058204\n",
       "106      -1.206760     -1.205342       0.364537      0.590353\n",
       "97        0.390550     -0.300831       0.247215      0.058204\n",
       "73        0.267680     -0.526959       0.481859     -0.074833\n",
       "90       -0.469540     -0.979214       0.305876     -0.074833\n",
       "111       0.636291     -0.753086       0.833826      0.856428\n",
       "29       -1.452501      0.377553      -1.336636     -1.405207\n",
       "81       -0.469540     -1.431469      -0.104752     -0.340908\n",
       "117       2.233601      1.734319       1.655082      1.255540\n",
       "46       -0.961020      1.734319      -1.336636     -1.405207\n",
       "138       0.144810     -0.074703       0.540521      0.723391\n",
       "58        0.882031     -0.300831       0.423198      0.058204\n",
       "67       -0.100930     -0.753086       0.129893     -0.340908\n",
       "141       1.250641      0.151425       0.716504      1.388577\n",
       "69       -0.346670     -1.205342       0.012570     -0.207871\n",
       "5        -0.592410      1.960447      -1.277975     -1.139132\n",
       "7        -1.083890      0.829808      -1.395297     -1.405207\n",
       "121      -0.346670     -0.526959       0.599182      0.989465\n",
       "56        0.513421      0.603680       0.481859      0.457316\n",
       "110       0.759161      0.377553       0.716504      0.989465\n",
       "..             ...           ...            ...           ...\n",
       "93       -1.083890     -1.657597      -0.339397     -0.340908\n",
       "134       0.267680     -0.979214       1.009810      0.191241\n",
       "83        0.144810     -0.753086       0.716504      0.457316\n",
       "24       -1.329630      0.829808      -1.160652     -1.405207\n",
       "88       -0.346670     -0.074703       0.129893      0.058204\n",
       "132       0.636291     -0.526959       1.009810      1.255540\n",
       "15       -0.223800      3.091086      -1.395297     -1.139132\n",
       "123       0.513421     -0.753086       0.599182      0.723391\n",
       "30       -1.329630      0.151425      -1.336636     -1.405207\n",
       "146       0.513421     -1.205342       0.657843      0.856428\n",
       "75        0.882031     -0.074703       0.305876      0.191241\n",
       "20       -0.592410      0.829808      -1.277975     -1.405207\n",
       "48       -0.715280      1.508191      -1.395297     -1.405207\n",
       "94       -0.346670     -0.753086       0.188554      0.058204\n",
       "140       1.004901      0.151425       1.009810      1.521615\n",
       "145       1.004901     -0.074703       0.775165      1.388577\n",
       "74        0.636291     -0.300831       0.247215      0.058204\n",
       "66       -0.346670     -0.074703       0.364537      0.324279\n",
       "62        0.144810     -1.883725       0.071231     -0.340908\n",
       "44       -0.961020      1.734319      -1.160652     -1.139132\n",
       "31       -0.592410      0.829808      -1.395297     -1.139132\n",
       "49       -1.083890      0.603680      -1.453958     -1.405207\n",
       "87        0.513421     -1.657597       0.305876      0.058204\n",
       "103       0.513421     -0.300831       1.009810      0.723391\n",
       "133       0.513421     -0.526959       0.716504      0.324279\n",
       "9        -1.206760      0.151425      -1.395297     -1.538244\n",
       "12       -1.329630     -0.074703      -1.453958     -1.538244\n",
       "98       -0.961020     -1.205342      -0.515380     -0.207871\n",
       "16       -0.592410      1.960447      -1.512619     -1.139132\n",
       "124       1.004901      0.603680       1.068471      1.122503\n",
       "\n",
       "[112 rows x 4 columns]>"
      ]
     },
     "execution_count": 21,
     "metadata": {},
     "output_type": "execute_result"
    }
   ],
   "source": [
    "train_data.head"
   ]
  },
  {
   "cell_type": "code",
   "execution_count": 22,
   "metadata": {},
   "outputs": [
    {
     "data": {
      "text/plain": [
       "<bound method NDFrame.head of      SepalLengthCm  SepalWidthCm  PetalLengthCm  PetalWidthCm\n",
       "131       2.496673      1.683648       1.568162      1.242531\n",
       "0        -0.723279      0.945433      -1.050034     -1.060697\n",
       "113      -0.033290     -1.515283       0.835067      1.242531\n",
       "42       -1.528267      0.207218      -1.102398     -1.060697\n",
       "33       -0.263286      2.667934      -1.050034     -1.060697\n",
       "23       -0.723279      0.453290      -0.892943     -0.676826\n",
       "38       -1.528267     -0.284925      -1.102398     -1.060697\n",
       "25       -0.838277     -0.284925      -0.945307     -1.060697\n",
       "77        1.116693     -0.284925       0.835067      0.858659\n",
       "70        0.196707      0.207218       0.730339      0.986616\n",
       "61        0.196707     -0.284925       0.416155      0.602745\n",
       "19       -0.723279      1.683648      -0.997670     -0.932740\n",
       "37       -0.953275     -0.038854      -0.997670     -1.188654\n",
       "144       1.116693      0.453290       1.201614      1.882316\n",
       "27       -0.608281      0.945433      -0.997670     -1.060697\n",
       "130       1.921681     -0.777068       1.411070      1.114573\n",
       "108       1.116693     -1.515283       1.253978      0.986616\n",
       "36       -0.263286      0.945433      -1.102398     -1.060697\n",
       "137       0.771699     -0.038854       1.096887      0.986616\n",
       "104       0.886697     -0.284925       1.253978      1.498445\n",
       "89       -0.263286     -1.515283       0.311428      0.346831\n",
       "95       -0.033290     -0.284925       0.416155      0.218874\n",
       "26       -0.838277      0.699362      -0.945307     -0.804783\n",
       "2        -1.183272      0.207218      -1.102398     -1.060697\n",
       "45       -1.068273     -0.284925      -1.050034     -0.932740\n",
       "149       0.196707     -0.284925       0.887431      0.986616\n",
       "34       -0.953275     -0.038854      -0.997670     -1.188654\n",
       "55       -0.033290     -0.777068       0.573247      0.346831\n",
       "80       -0.263286     -1.761355       0.206700      0.090917\n",
       "52        1.346690     -0.038854       0.782703      0.602745\n",
       "122       2.266676     -0.777068       1.725254      1.242531\n",
       "71        0.426704     -0.777068       0.311428      0.346831\n",
       "101       0.081709     -1.023140       0.887431      1.114573\n",
       "11       -1.068273      0.699362      -0.945307     -1.060697\n",
       "35       -0.838277      0.207218      -1.154762     -1.060697\n",
       "82        0.081709     -1.023140       0.259064      0.218874\n",
       "14        0.081709      2.175791      -1.154762     -1.060697\n",
       "91        0.426704     -0.284925       0.625611      0.474788>"
      ]
     },
     "execution_count": 22,
     "metadata": {},
     "output_type": "execute_result"
    }
   ],
   "source": [
    "test_data.head"
   ]
  },
  {
   "cell_type": "code",
   "execution_count": 23,
   "metadata": {},
   "outputs": [],
   "source": [
    "train_data = train_data.astype(np.float32)\n",
    "test_data = test_data.astype(np.float32)"
   ]
  },
  {
   "cell_type": "code",
   "execution_count": 24,
   "metadata": {},
   "outputs": [],
   "source": [
    "def next_batch(values,batch,batch_size):\n",
    "    start = batch*batch_size\n",
    "    end = start + batch_size\n",
    "    return values[start:end]"
   ]
  },
  {
   "cell_type": "code",
   "execution_count": 25,
   "metadata": {},
   "outputs": [],
   "source": [
    "def neuralnet(inputs):\n",
    "    layer1 = tf.add(tf.matmul(inputs,weights['wf1']),biases['bf1'])\n",
    "    layer1 = tf.nn.relu(layer1)\n",
    "    layer2 = tf.add(tf.matmul(layer1,weights['wf2']),biases['bf2'])\n",
    "    layer2 = tf.nn.relu(layer2)\n",
    "    logits = tf.add(tf.matmul(layer2,weights['wfinal']),biases['bfinal'])\n",
    "    out = tf.nn.softmax(logits)\n",
    "    return logits,out"
   ]
  },
  {
   "cell_type": "code",
   "execution_count": 26,
   "metadata": {},
   "outputs": [],
   "source": [
    "batch_size = 10\n",
    "learning_rate = 0.1\n",
    "epochs = 10"
   ]
  },
  {
   "cell_type": "code",
   "execution_count": 27,
   "metadata": {},
   "outputs": [],
   "source": [
    "inputs = tf.placeholder(tf.float32,[None,4])\n",
    "targets = tf.placeholder(tf.float32,[None,3])\n",
    "\n",
    "logits,out = neuralnet(inputs)\n",
    "\n",
    "cost = tf.reduce_mean(tf.nn.softmax_cross_entropy_with_logits_v2(logits=logits,labels=targets))\n",
    "optimizer = tf.train.GradientDescentOptimizer(learning_rate=learning_rate).minimize(cost)\n",
    "correct_pred = tf.equal(tf.argmax(logits,1),tf.argmax(targets,1))\n",
    "accuracy = tf.reduce_mean(tf.cast(correct_pred,tf.float32))"
   ]
  },
  {
   "cell_type": "code",
   "execution_count": 28,
   "metadata": {},
   "outputs": [
    {
     "name": "stdout",
     "output_type": "stream",
     "text": [
      "epoch 1,batch 0,train_loss 5.5570,test_loss 6.8270,accuracy 0.5000\n",
      "epoch 1,batch 10,train_loss 0.0277,test_loss 0.4805,accuracy 0.8947\n",
      "epoch 2,batch 0,train_loss 0.0309,test_loss 0.2659,accuracy 0.9474\n",
      "epoch 2,batch 10,train_loss 0.0677,test_loss 0.3001,accuracy 0.8947\n",
      "epoch 3,batch 0,train_loss 0.0153,test_loss 0.2768,accuracy 0.8947\n",
      "epoch 3,batch 10,train_loss 0.0552,test_loss 0.5512,accuracy 0.8421\n",
      "epoch 4,batch 0,train_loss 0.0171,test_loss 0.4661,accuracy 0.8684\n",
      "epoch 4,batch 10,train_loss 0.0455,test_loss 0.4503,accuracy 0.8684\n",
      "epoch 5,batch 0,train_loss 0.0102,test_loss 0.4242,accuracy 0.8684\n",
      "epoch 5,batch 10,train_loss 0.0484,test_loss 0.4332,accuracy 0.8684\n",
      "epoch 6,batch 0,train_loss 0.0083,test_loss 0.4126,accuracy 0.8684\n",
      "epoch 6,batch 10,train_loss 0.0224,test_loss 0.3972,accuracy 0.8947\n",
      "epoch 7,batch 0,train_loss 0.0060,test_loss 0.3863,accuracy 0.8947\n",
      "epoch 7,batch 10,train_loss 0.0490,test_loss 0.4239,accuracy 0.8947\n",
      "epoch 8,batch 0,train_loss 0.0072,test_loss 0.4082,accuracy 0.8947\n",
      "epoch 8,batch 10,train_loss 0.0205,test_loss 0.4047,accuracy 0.8947\n",
      "epoch 9,batch 0,train_loss 0.0054,test_loss 0.3941,accuracy 0.8947\n",
      "epoch 9,batch 10,train_loss 0.0501,test_loss 0.4148,accuracy 0.8947\n",
      "epoch 10,batch 0,train_loss 0.0068,test_loss 0.4005,accuracy 0.8947\n",
      "epoch 10,batch 10,train_loss 0.0229,test_loss 0.4133,accuracy 0.8947\n"
     ]
    }
   ],
   "source": [
    "with tf.Session() as sess:\n",
    "    sess.run(tf.global_variables_initializer())\n",
    "    for epoch in range(epochs):\n",
    "        for batch in range(len(train_data)//batch_size):\n",
    "            x_batch = next_batch(train_data,batch,batch_size)\n",
    "            y_batch = next_batch(train_targets,batch,batch_size)\n",
    "            \n",
    "            opt = sess.run(optimizer,feed_dict={inputs:x_batch,targets:y_batch})\n",
    "            train_loss = sess.run(cost,feed_dict={inputs:x_batch,targets:y_batch})\n",
    "            test_loss = sess.run(cost,feed_dict={inputs:test_data,targets:test_targets})\n",
    "            acc = sess.run(accuracy,feed_dict={inputs:test_data,targets:test_targets})\n",
    "            \n",
    "            if batch % 10 == 0:\n",
    "                print('epoch {},batch {},train_loss {:.4f},test_loss {:.4f},accuracy {:.4f}'.format(epoch+1,batch,train_loss,\n",
    "                                                                                                   test_loss,acc))"
   ]
  },
  {
   "cell_type": "code",
   "execution_count": 29,
   "metadata": {},
   "outputs": [],
   "source": [
    "sample_inputs = test_data[:20]\n",
    "sample_inputs_true_labels = test_targets[:20]\n",
    "with tf.Session() as sess:\n",
    "    sess.run(tf.global_variables_initializer())\n",
    "    predictions = sess.run(out,feed_dict={inputs:sample_inputs})\n",
    "    predictions = np.argmax(predictions,1)"
   ]
  },
  {
   "cell_type": "code",
   "execution_count": 30,
   "metadata": {},
   "outputs": [
    {
     "name": "stdout",
     "output_type": "stream",
     "text": [
      "[1 2 1 2 2 2 2 2 1 1 1 2 2 1 2 1 1 2 1 1]\n"
     ]
    }
   ],
   "source": [
    "print(predictions)"
   ]
  },
  {
   "cell_type": "code",
   "execution_count": 31,
   "metadata": {},
   "outputs": [
    {
     "data": {
      "text/plain": [
       "dtype('int64')"
      ]
     },
     "execution_count": 31,
     "metadata": {},
     "output_type": "execute_result"
    }
   ],
   "source": [
    "predictions.dtype"
   ]
  },
  {
   "cell_type": "code",
   "execution_count": 32,
   "metadata": {},
   "outputs": [],
   "source": [
    "def convert_to_classes(labels):\n",
    "    predicted_classes = list()\n",
    "    for label in labels:\n",
    "        label = avaliable_labels[label]\n",
    "        predicted_classes.append(label)\n",
    "    return predicted_classes"
   ]
  },
  {
   "cell_type": "code",
   "execution_count": 33,
   "metadata": {},
   "outputs": [
    {
     "name": "stdout",
     "output_type": "stream",
     "text": [
      "These are predicted labels\n",
      "['Iris-versicolor', 'Iris-virginica', 'Iris-versicolor', 'Iris-virginica', 'Iris-virginica', 'Iris-virginica', 'Iris-virginica', 'Iris-virginica', 'Iris-versicolor', 'Iris-versicolor', 'Iris-versicolor', 'Iris-virginica', 'Iris-virginica', 'Iris-versicolor', 'Iris-virginica', 'Iris-versicolor', 'Iris-versicolor', 'Iris-virginica', 'Iris-versicolor', 'Iris-versicolor']\n"
     ]
    }
   ],
   "source": [
    "predicted_classes = convert_to_classes(predictions)\n",
    "print('These are predicted labels')\n",
    "print(predicted_classes)"
   ]
  },
  {
   "cell_type": "code",
   "execution_count": 34,
   "metadata": {},
   "outputs": [
    {
     "name": "stdout",
     "output_type": "stream",
     "text": [
      "These are True labels\n",
      "['Iris-virginica', 'Iris-setosa', 'Iris-virginica', 'Iris-setosa', 'Iris-setosa', 'Iris-setosa', 'Iris-setosa', 'Iris-setosa', 'Iris-versicolor', 'Iris-versicolor', 'Iris-versicolor', 'Iris-setosa', 'Iris-setosa', 'Iris-virginica', 'Iris-setosa', 'Iris-virginica', 'Iris-virginica', 'Iris-setosa', 'Iris-virginica', 'Iris-virginica']\n"
     ]
    }
   ],
   "source": [
    "sample_inputs_true_labels = np.argmax(sample_inputs_true_labels,1)\n",
    "sample_inputs_true_labels = convert_to_classes(sample_inputs_true_labels)\n",
    "print('These are True labels')\n",
    "print(sample_inputs_true_labels)"
   ]
  },
  {
   "cell_type": "code",
   "execution_count": null,
   "metadata": {},
   "outputs": [],
   "source": []
  },
  {
   "cell_type": "code",
   "execution_count": null,
   "metadata": {},
   "outputs": [],
   "source": []
  }
 ],
 "metadata": {
  "kernelspec": {
   "display_name": "Python [conda env:flower]",
   "language": "python",
   "name": "conda-env-flower-py"
  },
  "language_info": {
   "codemirror_mode": {
    "name": "ipython",
    "version": 3
   },
   "file_extension": ".py",
   "mimetype": "text/x-python",
   "name": "python",
   "nbconvert_exporter": "python",
   "pygments_lexer": "ipython3",
   "version": "3.6.6"
  }
 },
 "nbformat": 4,
 "nbformat_minor": 2
}
